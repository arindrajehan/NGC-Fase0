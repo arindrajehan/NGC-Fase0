{
 "cells": [
  {
   "cell_type": "markdown",
   "metadata": {},
   "source": [
    "### Task 1"
   ]
  },
  {
   "cell_type": "code",
   "execution_count": 20,
   "metadata": {},
   "outputs": [
    {
     "name": "stdout",
     "output_type": "stream",
     "text": [
      "2\n",
      "8\n"
     ]
    },
    {
     "data": {
      "text/plain": [
       "8"
      ]
     },
     "execution_count": 20,
     "metadata": {},
     "output_type": "execute_result"
    }
   ],
   "source": [
    "def number_of_word(sentence):\n",
    "    print(len(sentence.split( )))\n",
    "    return len(sentence.split( ))\n",
    "\n",
    "number_of_word('Hello World')\n",
    "\n",
    "number_of_word('Once Upon a Time in a Faraway Land')"
   ]
  },
  {
   "cell_type": "markdown",
   "metadata": {},
   "source": [
    "### Task 2"
   ]
  },
  {
   "cell_type": "code",
   "execution_count": 29,
   "metadata": {},
   "outputs": [
    {
     "name": "stdout",
     "output_type": "stream",
     "text": [
      "[5, 10, 15, 20]\n",
      "[10, 20, 30, 40, 50]\n"
     ]
    }
   ],
   "source": [
    "def find_multiples(start_range, end_range, multiple):\n",
    "\n",
    "\tmultiples = []\n",
    "\n",
    "\tfor a in range(start_range, end_range + 1):\n",
    "\t\tif a % multiple == 0:\n",
    "\t\t\tmultiples.append(a)\n",
    "\t\n",
    "\treturn multiples\n",
    "\n",
    "print(find_multiples(1, 20, 5))\n",
    "print(find_multiples(1, 50, 10))"
   ]
  },
  {
   "cell_type": "markdown",
   "metadata": {},
   "source": [
    "### Task 3"
   ]
  },
  {
   "cell_type": "code",
   "execution_count": 32,
   "metadata": {},
   "outputs": [
    {
     "data": {
      "text/plain": [
       "{'Ari': 3.0}"
      ]
     },
     "execution_count": 32,
     "metadata": {},
     "output_type": "execute_result"
    }
   ],
   "source": [
    "def Grade_Converter(convert_to, **Students):\n",
    "  # akses student satu per satu\n",
    "  for nama, nilai in Students.items():\n",
    "\n",
    "    # Jika diminta ke format GPA\n",
    "    if convert_to == 'letter_grade':\n",
    "      if nilai >= 85 :\n",
    "        nilai = 'A'\n",
    "      elif nilai >= 70 :\n",
    "        nilai = 'B'\n",
    "      elif nilai >= 60 :\n",
    "        nilai = 'C'\n",
    "      elif nilai >= 50 :\n",
    "        nilai = 'D'\n",
    "      elif nilai >= 40 :\n",
    "        nilai = 'F'\n",
    "      else:\n",
    "        nilai = 'E'\n",
    "\n",
    "    # Jika yang diminta letter format    \n",
    "    else :\n",
    "      if nilai >= 85 :\n",
    "        nilai = 4.0\n",
    "      elif nilai >= 70 :\n",
    "        nilai = 3.0\n",
    "      elif nilai >= 60 :\n",
    "        nilai = 2.5\n",
    "      elif nilai >= 50 :\n",
    "        nilai = 2.0\n",
    "      elif nilai >= 40 :\n",
    "        nilai = 1.5\n",
    "      else:\n",
    "        nilai = 1\n",
    "      \n",
    "    # Masukkan nilai yang sudah diubah\n",
    "    Students[nama] = nilai\n",
    "\n",
    "  # return hasilnya\n",
    "  return Students\n",
    "\n",
    "Grade_Converter('gpa', Ari=80)"
   ]
  },
  {
   "cell_type": "markdown",
   "metadata": {},
   "source": [
    "### Task 4"
   ]
  },
  {
   "cell_type": "code",
   "execution_count": 33,
   "metadata": {},
   "outputs": [
    {
     "name": "stdout",
     "output_type": "stream",
     "text": [
      "8\n"
     ]
    }
   ],
   "source": [
    "def fibb(n):\n",
    "    if n < 0:\n",
    "        print('error')\n",
    "    elif n == 1 or n == 2:\n",
    "        return 1\n",
    "    elif n == 0:\n",
    "        return 0\n",
    "    else:\n",
    "        return fibb(n-1) + fibb(n-2)\n",
    "    \n",
    "print(fibb(6))"
   ]
  }
 ],
 "metadata": {
  "kernelspec": {
   "display_name": "base",
   "language": "python",
   "name": "python3"
  },
  "language_info": {
   "codemirror_mode": {
    "name": "ipython",
    "version": 3
   },
   "file_extension": ".py",
   "mimetype": "text/x-python",
   "name": "python",
   "nbconvert_exporter": "python",
   "pygments_lexer": "ipython3",
   "version": "3.9.18"
  }
 },
 "nbformat": 4,
 "nbformat_minor": 2
}
